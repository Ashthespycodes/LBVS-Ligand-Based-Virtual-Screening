{
  "cells": [
    {
      "cell_type": "markdown",
      "metadata": {
        "id": "view-in-github",
        "colab_type": "text"
      },
      "source": [
        "<a href=\"https://colab.research.google.com/github/Ashthespycodes/LBVS-Ligand-Based-Virtual-Screening/blob/main/lbvs_3d_docking_colab.ipynb\" target=\"_parent\"><img src=\"https://colab.research.google.com/assets/colab-badge.svg\" alt=\"Open In Colab\"/></a>"
      ]
    },
    {
      "cell_type": "markdown",
      "id": "62e40155",
      "metadata": {
        "id": "62e40155"
      },
      "source": [
        "# LBVS Workflow with 2D, 3D Pharmacophore, and Docking\n",
        "This Colab notebook implements:\n",
        "1. Excel compound library upload\n",
        "2. 2D Morgan fingerprints\n",
        "3. 3D pharmacophore (USRCAT) fingerprints\n",
        "4. Similarity screening (2D & 3D)\n",
        "5. Docking-based screening via GNINA\n",
        "6. ADMET (Lipinski) filtering and scaffold analysis\n",
        "7. Results saving and visualizations"
      ]
    },
    {
      "cell_type": "code",
      "execution_count": null,
      "id": "2f783004",
      "metadata": {
        "colab": {
          "base_uri": "https://localhost:8080/"
        },
        "id": "2f783004",
        "outputId": "7ccfbb51-4370-488d-87cc-92dd4778c36c"
      },
      "outputs": [
        {
          "output_type": "stream",
          "name": "stdout",
          "text": [
            "Collecting rdkit-pypi\n",
            "  Downloading rdkit_pypi-2022.9.5-cp311-cp311-manylinux_2_17_x86_64.manylinux2014_x86_64.whl.metadata (3.9 kB)\n",
            "Requirement already satisfied: numpy in /usr/local/lib/python3.11/dist-packages (from rdkit-pypi) (2.0.2)\n",
            "Requirement already satisfied: Pillow in /usr/local/lib/python3.11/dist-packages (from rdkit-pypi) (11.1.0)\n",
            "Downloading rdkit_pypi-2022.9.5-cp311-cp311-manylinux_2_17_x86_64.manylinux2014_x86_64.whl (29.4 MB)\n",
            "\u001b[2K   \u001b[90m━━━━━━━━━━━━━━━━━━━━━━━━━━━━━━━━━━━━━━━━\u001b[0m \u001b[32m29.4/29.4 MB\u001b[0m \u001b[31m15.2 MB/s\u001b[0m eta \u001b[36m0:00:00\u001b[0m\n",
            "\u001b[?25hInstalling collected packages: rdkit-pypi\n",
            "Successfully installed rdkit-pypi-2022.9.5\n"
          ]
        }
      ],
      "source": [
        "# Install RDKit (if needed)\n",
        "!pip install rdkit-pypi"
      ]
    },
    {
      "cell_type": "code",
      "execution_count": null,
      "id": "684aed0e",
      "metadata": {
        "colab": {
          "base_uri": "https://localhost:8080/",
          "height": 203
        },
        "id": "684aed0e",
        "outputId": "ebac5051-88bf-4be7-deb6-04961f5bcceb"
      },
      "outputs": [
        {
          "output_type": "stream",
          "name": "stdout",
          "text": [
            "Upload your Excel compound library (.xlsx/.xls):\n"
          ]
        },
        {
          "output_type": "display_data",
          "data": {
            "text/plain": [
              "<IPython.core.display.HTML object>"
            ],
            "text/html": [
              "\n",
              "     <input type=\"file\" id=\"files-2ea99503-6adc-432b-a303-33982329a3a0\" name=\"files[]\" multiple disabled\n",
              "        style=\"border:none\" />\n",
              "     <output id=\"result-2ea99503-6adc-432b-a303-33982329a3a0\">\n",
              "      Upload widget is only available when the cell has been executed in the\n",
              "      current browser session. Please rerun this cell to enable.\n",
              "      </output>\n",
              "      <script>// Copyright 2017 Google LLC\n",
              "//\n",
              "// Licensed under the Apache License, Version 2.0 (the \"License\");\n",
              "// you may not use this file except in compliance with the License.\n",
              "// You may obtain a copy of the License at\n",
              "//\n",
              "//      http://www.apache.org/licenses/LICENSE-2.0\n",
              "//\n",
              "// Unless required by applicable law or agreed to in writing, software\n",
              "// distributed under the License is distributed on an \"AS IS\" BASIS,\n",
              "// WITHOUT WARRANTIES OR CONDITIONS OF ANY KIND, either express or implied.\n",
              "// See the License for the specific language governing permissions and\n",
              "// limitations under the License.\n",
              "\n",
              "/**\n",
              " * @fileoverview Helpers for google.colab Python module.\n",
              " */\n",
              "(function(scope) {\n",
              "function span(text, styleAttributes = {}) {\n",
              "  const element = document.createElement('span');\n",
              "  element.textContent = text;\n",
              "  for (const key of Object.keys(styleAttributes)) {\n",
              "    element.style[key] = styleAttributes[key];\n",
              "  }\n",
              "  return element;\n",
              "}\n",
              "\n",
              "// Max number of bytes which will be uploaded at a time.\n",
              "const MAX_PAYLOAD_SIZE = 100 * 1024;\n",
              "\n",
              "function _uploadFiles(inputId, outputId) {\n",
              "  const steps = uploadFilesStep(inputId, outputId);\n",
              "  const outputElement = document.getElementById(outputId);\n",
              "  // Cache steps on the outputElement to make it available for the next call\n",
              "  // to uploadFilesContinue from Python.\n",
              "  outputElement.steps = steps;\n",
              "\n",
              "  return _uploadFilesContinue(outputId);\n",
              "}\n",
              "\n",
              "// This is roughly an async generator (not supported in the browser yet),\n",
              "// where there are multiple asynchronous steps and the Python side is going\n",
              "// to poll for completion of each step.\n",
              "// This uses a Promise to block the python side on completion of each step,\n",
              "// then passes the result of the previous step as the input to the next step.\n",
              "function _uploadFilesContinue(outputId) {\n",
              "  const outputElement = document.getElementById(outputId);\n",
              "  const steps = outputElement.steps;\n",
              "\n",
              "  const next = steps.next(outputElement.lastPromiseValue);\n",
              "  return Promise.resolve(next.value.promise).then((value) => {\n",
              "    // Cache the last promise value to make it available to the next\n",
              "    // step of the generator.\n",
              "    outputElement.lastPromiseValue = value;\n",
              "    return next.value.response;\n",
              "  });\n",
              "}\n",
              "\n",
              "/**\n",
              " * Generator function which is called between each async step of the upload\n",
              " * process.\n",
              " * @param {string} inputId Element ID of the input file picker element.\n",
              " * @param {string} outputId Element ID of the output display.\n",
              " * @return {!Iterable<!Object>} Iterable of next steps.\n",
              " */\n",
              "function* uploadFilesStep(inputId, outputId) {\n",
              "  const inputElement = document.getElementById(inputId);\n",
              "  inputElement.disabled = false;\n",
              "\n",
              "  const outputElement = document.getElementById(outputId);\n",
              "  outputElement.innerHTML = '';\n",
              "\n",
              "  const pickedPromise = new Promise((resolve) => {\n",
              "    inputElement.addEventListener('change', (e) => {\n",
              "      resolve(e.target.files);\n",
              "    });\n",
              "  });\n",
              "\n",
              "  const cancel = document.createElement('button');\n",
              "  inputElement.parentElement.appendChild(cancel);\n",
              "  cancel.textContent = 'Cancel upload';\n",
              "  const cancelPromise = new Promise((resolve) => {\n",
              "    cancel.onclick = () => {\n",
              "      resolve(null);\n",
              "    };\n",
              "  });\n",
              "\n",
              "  // Wait for the user to pick the files.\n",
              "  const files = yield {\n",
              "    promise: Promise.race([pickedPromise, cancelPromise]),\n",
              "    response: {\n",
              "      action: 'starting',\n",
              "    }\n",
              "  };\n",
              "\n",
              "  cancel.remove();\n",
              "\n",
              "  // Disable the input element since further picks are not allowed.\n",
              "  inputElement.disabled = true;\n",
              "\n",
              "  if (!files) {\n",
              "    return {\n",
              "      response: {\n",
              "        action: 'complete',\n",
              "      }\n",
              "    };\n",
              "  }\n",
              "\n",
              "  for (const file of files) {\n",
              "    const li = document.createElement('li');\n",
              "    li.append(span(file.name, {fontWeight: 'bold'}));\n",
              "    li.append(span(\n",
              "        `(${file.type || 'n/a'}) - ${file.size} bytes, ` +\n",
              "        `last modified: ${\n",
              "            file.lastModifiedDate ? file.lastModifiedDate.toLocaleDateString() :\n",
              "                                    'n/a'} - `));\n",
              "    const percent = span('0% done');\n",
              "    li.appendChild(percent);\n",
              "\n",
              "    outputElement.appendChild(li);\n",
              "\n",
              "    const fileDataPromise = new Promise((resolve) => {\n",
              "      const reader = new FileReader();\n",
              "      reader.onload = (e) => {\n",
              "        resolve(e.target.result);\n",
              "      };\n",
              "      reader.readAsArrayBuffer(file);\n",
              "    });\n",
              "    // Wait for the data to be ready.\n",
              "    let fileData = yield {\n",
              "      promise: fileDataPromise,\n",
              "      response: {\n",
              "        action: 'continue',\n",
              "      }\n",
              "    };\n",
              "\n",
              "    // Use a chunked sending to avoid message size limits. See b/62115660.\n",
              "    let position = 0;\n",
              "    do {\n",
              "      const length = Math.min(fileData.byteLength - position, MAX_PAYLOAD_SIZE);\n",
              "      const chunk = new Uint8Array(fileData, position, length);\n",
              "      position += length;\n",
              "\n",
              "      const base64 = btoa(String.fromCharCode.apply(null, chunk));\n",
              "      yield {\n",
              "        response: {\n",
              "          action: 'append',\n",
              "          file: file.name,\n",
              "          data: base64,\n",
              "        },\n",
              "      };\n",
              "\n",
              "      let percentDone = fileData.byteLength === 0 ?\n",
              "          100 :\n",
              "          Math.round((position / fileData.byteLength) * 100);\n",
              "      percent.textContent = `${percentDone}% done`;\n",
              "\n",
              "    } while (position < fileData.byteLength);\n",
              "  }\n",
              "\n",
              "  // All done.\n",
              "  yield {\n",
              "    response: {\n",
              "      action: 'complete',\n",
              "    }\n",
              "  };\n",
              "}\n",
              "\n",
              "scope.google = scope.google || {};\n",
              "scope.google.colab = scope.google.colab || {};\n",
              "scope.google.colab._files = {\n",
              "  _uploadFiles,\n",
              "  _uploadFilesContinue,\n",
              "};\n",
              "})(self);\n",
              "</script> "
            ]
          },
          "metadata": {}
        },
        {
          "output_type": "stream",
          "name": "stdout",
          "text": [
            "Saving Dataset_carotene+carotenoids(1072).xlsx to Dataset_carotene+carotenoids(1072) (1).xlsx\n",
            "Compound file loaded: Dataset_carotene+carotenoids(1072) (1).xlsx\n",
            "Upload your receptor PDB for docking:\n"
          ]
        },
        {
          "output_type": "display_data",
          "data": {
            "text/plain": [
              "<IPython.core.display.HTML object>"
            ],
            "text/html": [
              "\n",
              "     <input type=\"file\" id=\"files-e6a95927-32c5-4a37-87ee-b6af8da0a3c1\" name=\"files[]\" multiple disabled\n",
              "        style=\"border:none\" />\n",
              "     <output id=\"result-e6a95927-32c5-4a37-87ee-b6af8da0a3c1\">\n",
              "      Upload widget is only available when the cell has been executed in the\n",
              "      current browser session. Please rerun this cell to enable.\n",
              "      </output>\n",
              "      <script>// Copyright 2017 Google LLC\n",
              "//\n",
              "// Licensed under the Apache License, Version 2.0 (the \"License\");\n",
              "// you may not use this file except in compliance with the License.\n",
              "// You may obtain a copy of the License at\n",
              "//\n",
              "//      http://www.apache.org/licenses/LICENSE-2.0\n",
              "//\n",
              "// Unless required by applicable law or agreed to in writing, software\n",
              "// distributed under the License is distributed on an \"AS IS\" BASIS,\n",
              "// WITHOUT WARRANTIES OR CONDITIONS OF ANY KIND, either express or implied.\n",
              "// See the License for the specific language governing permissions and\n",
              "// limitations under the License.\n",
              "\n",
              "/**\n",
              " * @fileoverview Helpers for google.colab Python module.\n",
              " */\n",
              "(function(scope) {\n",
              "function span(text, styleAttributes = {}) {\n",
              "  const element = document.createElement('span');\n",
              "  element.textContent = text;\n",
              "  for (const key of Object.keys(styleAttributes)) {\n",
              "    element.style[key] = styleAttributes[key];\n",
              "  }\n",
              "  return element;\n",
              "}\n",
              "\n",
              "// Max number of bytes which will be uploaded at a time.\n",
              "const MAX_PAYLOAD_SIZE = 100 * 1024;\n",
              "\n",
              "function _uploadFiles(inputId, outputId) {\n",
              "  const steps = uploadFilesStep(inputId, outputId);\n",
              "  const outputElement = document.getElementById(outputId);\n",
              "  // Cache steps on the outputElement to make it available for the next call\n",
              "  // to uploadFilesContinue from Python.\n",
              "  outputElement.steps = steps;\n",
              "\n",
              "  return _uploadFilesContinue(outputId);\n",
              "}\n",
              "\n",
              "// This is roughly an async generator (not supported in the browser yet),\n",
              "// where there are multiple asynchronous steps and the Python side is going\n",
              "// to poll for completion of each step.\n",
              "// This uses a Promise to block the python side on completion of each step,\n",
              "// then passes the result of the previous step as the input to the next step.\n",
              "function _uploadFilesContinue(outputId) {\n",
              "  const outputElement = document.getElementById(outputId);\n",
              "  const steps = outputElement.steps;\n",
              "\n",
              "  const next = steps.next(outputElement.lastPromiseValue);\n",
              "  return Promise.resolve(next.value.promise).then((value) => {\n",
              "    // Cache the last promise value to make it available to the next\n",
              "    // step of the generator.\n",
              "    outputElement.lastPromiseValue = value;\n",
              "    return next.value.response;\n",
              "  });\n",
              "}\n",
              "\n",
              "/**\n",
              " * Generator function which is called between each async step of the upload\n",
              " * process.\n",
              " * @param {string} inputId Element ID of the input file picker element.\n",
              " * @param {string} outputId Element ID of the output display.\n",
              " * @return {!Iterable<!Object>} Iterable of next steps.\n",
              " */\n",
              "function* uploadFilesStep(inputId, outputId) {\n",
              "  const inputElement = document.getElementById(inputId);\n",
              "  inputElement.disabled = false;\n",
              "\n",
              "  const outputElement = document.getElementById(outputId);\n",
              "  outputElement.innerHTML = '';\n",
              "\n",
              "  const pickedPromise = new Promise((resolve) => {\n",
              "    inputElement.addEventListener('change', (e) => {\n",
              "      resolve(e.target.files);\n",
              "    });\n",
              "  });\n",
              "\n",
              "  const cancel = document.createElement('button');\n",
              "  inputElement.parentElement.appendChild(cancel);\n",
              "  cancel.textContent = 'Cancel upload';\n",
              "  const cancelPromise = new Promise((resolve) => {\n",
              "    cancel.onclick = () => {\n",
              "      resolve(null);\n",
              "    };\n",
              "  });\n",
              "\n",
              "  // Wait for the user to pick the files.\n",
              "  const files = yield {\n",
              "    promise: Promise.race([pickedPromise, cancelPromise]),\n",
              "    response: {\n",
              "      action: 'starting',\n",
              "    }\n",
              "  };\n",
              "\n",
              "  cancel.remove();\n",
              "\n",
              "  // Disable the input element since further picks are not allowed.\n",
              "  inputElement.disabled = true;\n",
              "\n",
              "  if (!files) {\n",
              "    return {\n",
              "      response: {\n",
              "        action: 'complete',\n",
              "      }\n",
              "    };\n",
              "  }\n",
              "\n",
              "  for (const file of files) {\n",
              "    const li = document.createElement('li');\n",
              "    li.append(span(file.name, {fontWeight: 'bold'}));\n",
              "    li.append(span(\n",
              "        `(${file.type || 'n/a'}) - ${file.size} bytes, ` +\n",
              "        `last modified: ${\n",
              "            file.lastModifiedDate ? file.lastModifiedDate.toLocaleDateString() :\n",
              "                                    'n/a'} - `));\n",
              "    const percent = span('0% done');\n",
              "    li.appendChild(percent);\n",
              "\n",
              "    outputElement.appendChild(li);\n",
              "\n",
              "    const fileDataPromise = new Promise((resolve) => {\n",
              "      const reader = new FileReader();\n",
              "      reader.onload = (e) => {\n",
              "        resolve(e.target.result);\n",
              "      };\n",
              "      reader.readAsArrayBuffer(file);\n",
              "    });\n",
              "    // Wait for the data to be ready.\n",
              "    let fileData = yield {\n",
              "      promise: fileDataPromise,\n",
              "      response: {\n",
              "        action: 'continue',\n",
              "      }\n",
              "    };\n",
              "\n",
              "    // Use a chunked sending to avoid message size limits. See b/62115660.\n",
              "    let position = 0;\n",
              "    do {\n",
              "      const length = Math.min(fileData.byteLength - position, MAX_PAYLOAD_SIZE);\n",
              "      const chunk = new Uint8Array(fileData, position, length);\n",
              "      position += length;\n",
              "\n",
              "      const base64 = btoa(String.fromCharCode.apply(null, chunk));\n",
              "      yield {\n",
              "        response: {\n",
              "          action: 'append',\n",
              "          file: file.name,\n",
              "          data: base64,\n",
              "        },\n",
              "      };\n",
              "\n",
              "      let percentDone = fileData.byteLength === 0 ?\n",
              "          100 :\n",
              "          Math.round((position / fileData.byteLength) * 100);\n",
              "      percent.textContent = `${percentDone}% done`;\n",
              "\n",
              "    } while (position < fileData.byteLength);\n",
              "  }\n",
              "\n",
              "  // All done.\n",
              "  yield {\n",
              "    response: {\n",
              "      action: 'complete',\n",
              "    }\n",
              "  };\n",
              "}\n",
              "\n",
              "scope.google = scope.google || {};\n",
              "scope.google.colab = scope.google.colab || {};\n",
              "scope.google.colab._files = {\n",
              "  _uploadFiles,\n",
              "  _uploadFilesContinue,\n",
              "};\n",
              "})(self);\n",
              "</script> "
            ]
          },
          "metadata": {}
        },
        {
          "output_type": "stream",
          "name": "stdout",
          "text": [
            "Saving 3ert.pdb1.gz to 3ert.pdb1 (1).gz\n",
            "Receptor file loaded: 3ert.pdb1 (1).gz\n"
          ]
        }
      ],
      "source": [
        "# Upload files in Colab\n",
        "from google.colab import files\n",
        "import os\n",
        "\n",
        "print(\"Upload your Excel compound library (.xlsx/.xls):\")\n",
        "uploaded = files.upload()\n",
        "input_file = list(uploaded.keys())[0]\n",
        "print(\"Compound file loaded:\", input_file)\n",
        "\n",
        "print(\"Upload your receptor PDB for docking:\")\n",
        "uploaded2 = files.upload()\n",
        "receptor_file = list(uploaded2.keys())[0]\n",
        "print(\"Receptor file loaded:\", receptor_file)"
      ]
    },
    {
      "cell_type": "code",
      "source": [
        "# in a Colab cell, before any rdkit imports:\n",
        "!pip install -q condacolab\n",
        "import condacolab\n",
        "condacolab.install()\n",
        "\n",
        "# Then install RDKit from conda-forge:\n",
        "!mamba install -y -c conda-forge rdkit\n"
      ],
      "metadata": {
        "colab": {
          "base_uri": "https://localhost:8080/"
        },
        "id": "X2mYsz22F2G9",
        "outputId": "3fdb6df2-43a0-46d1-9a7b-99d7716ce184",
        "collapsed": true
      },
      "id": "X2mYsz22F2G9",
      "execution_count": null,
      "outputs": [
        {
          "output_type": "stream",
          "name": "stdout",
          "text": [
            "✨🍰✨ Everything looks OK!\n",
            "\n",
            "Looking for: ['rdkit']\n",
            "\n",
            "conda-forge/linux-64                                        Using cache\n",
            "conda-forge/noarch                                          Using cache\n",
            "\n",
            "Pinned packages:\n",
            "  - python 3.11.*\n",
            "  - python 3.11.*\n",
            "  - python_abi 3.11.* *cp311*\n",
            "  - cuda-version 12.*\n",
            "\n",
            "\n",
            "Transaction\n",
            "\n",
            "  Prefix: /usr/local\n",
            "\n",
            "  All requested packages already installed\n",
            "\n",
            "\u001b[?25l\u001b[2K\u001b[0G\u001b[?25h"
          ]
        }
      ]
    },
    {
      "cell_type": "code",
      "source": [
        "# Make sure you’ve installed RDKit first:\n",
        "# !pip install rdkit-pypi\n",
        "\n",
        "import os\n",
        "from rdkit import Chem\n",
        "from rdkit.Chem import AllChem, rdShapeHelpers\n",
        "\n",
        "# Utility to embed & optimize a 3D conformer\n",
        "def embed_optimize(smiles, seed=42):\n",
        "    mol = Chem.MolFromSmiles(smiles)\n",
        "    if mol is None:\n",
        "        raise ValueError(f\"Invalid SMILES: {smiles}\")\n",
        "    mol = Chem.AddHs(mol)\n",
        "    if AllChem.EmbedMolecule(mol, randomSeed=seed) != 0:\n",
        "        raise RuntimeError(\"3D embedding failed\")\n",
        "    AllChem.UFFOptimizeMolecule(mol)\n",
        "    return mol\n",
        "\n",
        "# Ensure output dir\n",
        "output_dir = \"LBVS_Results\"\n",
        "os.makedirs(output_dir, exist_ok=True)\n",
        "\n",
        "# Correct β‑carotene SMILES (complete)\n",
        "query_smiles = (\n",
        "    \"CC1=C(/C=C/C(C)=C/C=C/C(C)=C/C=C/C=C(C)/C=C/\"\n",
        "    \"C=C(C)/C=C/C2=C(C)CCCC2(C)C)C(C)(C)CCC1\"\n",
        ")\n",
        "target_smiles = \"C1CCCCC1\"  # example; replace with your library SMILES\n",
        "\n",
        "# Generate 3D conformers\n",
        "qs = embed_optimize(query_smiles)\n",
        "ms = embed_optimize(target_smiles)\n",
        "\n",
        "# Compute shape‐Tanimoto (0=perfect overlap, 1=no overlap)\n",
        "dist = rdShapeHelpers.ShapeTanimotoDist(qs, ms)\n",
        "shape_sim = 1.0 - dist\n",
        "print(f\"3D Shape similarity = {shape_sim:.3f}\")\n"
      ],
      "metadata": {
        "colab": {
          "base_uri": "https://localhost:8080/"
        },
        "id": "IwrlQiyn5SOl",
        "outputId": "305dbec5-699c-42b9-d090-45de9461326e"
      },
      "id": "IwrlQiyn5SOl",
      "execution_count": null,
      "outputs": [
        {
          "output_type": "stream",
          "name": "stdout",
          "text": [
            "3D Shape similarity = 0.085\n"
          ]
        }
      ]
    },
    {
      "cell_type": "code",
      "execution_count": null,
      "id": "7f12ba37",
      "metadata": {
        "id": "7f12ba37",
        "colab": {
          "base_uri": "https://localhost:8080/"
        },
        "outputId": "33154648-991a-4519-95ee-d335471daac2"
      },
      "outputs": [
        {
          "output_type": "stream",
          "name": "stdout",
          "text": [
            "Using SMILES column: smiles (1072 compounds)\n"
          ]
        }
      ],
      "source": [
        "# 1. Load Excel dataset and detect SMILES column\n",
        "df = pd.read_excel(input_file)\n",
        "smiles_col = None\n",
        "for col in df.columns:\n",
        "    if str(col).strip().lower() == \"smiles\":\n",
        "        smiles_col = col\n",
        "        break\n",
        "if smiles_col is None:\n",
        "    raise ValueError(\"No SMILES column found.\")\n",
        "print(f\"Using SMILES column: {smiles_col} ({len(df)} compounds)\")"
      ]
    },
    {
      "cell_type": "code",
      "source": [
        "from google.colab import drive\n",
        "drive.mount('/content/drive')"
      ],
      "metadata": {
        "id": "qDV0tzzqkINO",
        "colab": {
          "base_uri": "https://localhost:8080/"
        },
        "outputId": "4ee8a035-b9cc-4af4-dda3-e5a221eeb5fa"
      },
      "id": "qDV0tzzqkINO",
      "execution_count": null,
      "outputs": [
        {
          "output_type": "stream",
          "name": "stdout",
          "text": [
            "Mounted at /content/drive\n"
          ]
        }
      ]
    },
    {
      "cell_type": "code",
      "execution_count": null,
      "id": "133cf72b",
      "metadata": {
        "id": "133cf72b",
        "outputId": "ad8e8c19-1771-49b7-d2c1-81bbe3cb6a99",
        "colab": {
          "base_uri": "https://localhost:8080/"
        },
        "collapsed": true
      },
      "outputs": [
        {
          "output_type": "stream",
          "name": "stdout",
          "text": [
            "Query fingerprints (2D & 3D USRCAT) computed.\n"
          ]
        }
      ],
      "source": [
        "from rdkit import Chem\n",
        "from rdkit.Chem import AllChem\n",
        "from rdkit.Chem.rdMolDescriptors import GetUSRCAT  # ← import the USRCAT function\n",
        "\n",
        "query_smiles = {\n",
        "    \"beta_carotene\": \"CC1=C(/C=C/C(C)=C/C=C/C(C)=C/C=C/C=C(C)/C=C/C=C(C)/C=C/C2=C(C)CCCC2(C)C)C(C)(C)CCC1\",\n",
        "    \"bexarotene\":    \"C=C(c1ccc(C(=O)O)cc1)c1cc2c(cc1C)C(C)(C)CCC2(C)C\",\n",
        "    \"tamibarotene\":  \"CC1(C)CCC(C)(C)c2cc(NC(=O)c3ccc(C(=O)O)cc3)ccc21\"\n",
        "}\n",
        "\n",
        "query_fps_2d = {}\n",
        "query_fps_3d = {}\n",
        "\n",
        "for name, smi in query_smiles.items():\n",
        "    mol = Chem.MolFromSmiles(smi)\n",
        "    if mol is None:\n",
        "        raise ValueError(f\"Invalid query SMILES: {name}\")\n",
        "    # 2D Morgan fingerprint\n",
        "    query_fps_2d[name] = AllChem.GetMorganFingerprintAsBitVect(mol, 2, nBits=2048)\n",
        "\n",
        "    # 3D conformer + USRCAT\n",
        "    m3d = Chem.AddHs(mol)\n",
        "    AllChem.EmbedMolecule(m3d, randomSeed=42)\n",
        "    AllChem.UFFOptimizeMolecule(m3d)\n",
        "    query_fps_3d[name] = GetUSRCAT(m3d)  # ← now defined!\n",
        "\n",
        "print(\"Query fingerprints (2D & 3D USRCAT) computed.\")\n"
      ]
    },
    {
      "cell_type": "code",
      "execution_count": null,
      "id": "1ac5cf31",
      "metadata": {
        "id": "1ac5cf31",
        "colab": {
          "base_uri": "https://localhost:8080/"
        },
        "outputId": "d1745ea5-b3ff-4820-bd53-01d0f41ec8d4"
      },
      "outputs": [
        {
          "output_type": "stream",
          "name": "stdout",
          "text": [
            "Processed 1048 valid molecules.\n"
          ]
        }
      ],
      "source": [
        "from rdkit import Chem\n",
        "from rdkit.Chem import AllChem, Descriptors, rdMolDescriptors\n",
        "from rdkit.Chem.rdMolDescriptors import GetUSRCAT\n",
        "import pandas as pd\n",
        "\n",
        "fps_2d, fps_3d, desc_list, valid_idx = [], [], [], []\n",
        "\n",
        "for i, smi in enumerate(df[smiles_col]):\n",
        "    mol = Chem.MolFromSmiles(str(smi))\n",
        "    if mol is None:\n",
        "        continue\n",
        "\n",
        "    # 2D fingerprint\n",
        "    fps_2d.append(AllChem.GetMorganFingerprintAsBitVect(mol, 2, nBits=2048))\n",
        "\n",
        "    # 3D conformer + USRCAT\n",
        "    m3d = Chem.AddHs(mol)\n",
        "    params = AllChem.ETKDGv3()\n",
        "    params.randomSeed = 42\n",
        "    embed_status = AllChem.EmbedMolecule(m3d, params)\n",
        "    if embed_status != 0 or m3d.GetNumConformers() == 0:\n",
        "        fps_2d.pop()\n",
        "        continue\n",
        "\n",
        "    AllChem.UFFOptimizeMolecule(m3d)\n",
        "    fps_3d.append(GetUSRCAT(m3d))\n",
        "\n",
        "    # descriptors\n",
        "    desc_list.append({\n",
        "        \"MW\":   Descriptors.MolWt(mol),\n",
        "        \"LogP\": Descriptors.MolLogP(mol),\n",
        "        \"HBD\":  Descriptors.NumHDonors(mol),\n",
        "        \"HBA\":  Descriptors.NumHAcceptors(mol),\n",
        "        \"TPSA\": rdMolDescriptors.CalcTPSA(mol),\n",
        "        \"RotB\": Descriptors.NumRotatableBonds(mol)\n",
        "    })\n",
        "    valid_idx.append(i)\n",
        "\n",
        "df_valid = df.iloc[valid_idx].reset_index(drop=True)\n",
        "df_desc  = pd.DataFrame(desc_list)\n",
        "df_valid = pd.concat([df_valid, df_desc], axis=1)\n",
        "print(f\"Processed {len(df_valid)} valid molecules.\")\n"
      ]
    },
    {
      "cell_type": "code",
      "execution_count": null,
      "id": "abb88da8",
      "metadata": {
        "id": "abb88da8",
        "colab": {
          "base_uri": "https://localhost:8080/"
        },
        "outputId": "4cbfa05e-535b-4bea-f6a3-2aa3f9829fd9"
      },
      "outputs": [
        {
          "output_type": "stream",
          "name": "stdout",
          "text": [
            "2D hits: 108, 3D hits: 1006\n"
          ]
        }
      ],
      "source": [
        "# 4. Similarity screening: 2D Tanimoto & 3D cosine similarity\n",
        "# 2D\n",
        "sim2d = []\n",
        "best2d = []\n",
        "for fp in fps_2d:\n",
        "    scores = [TanimotoSimilarity(fp, qfp) for qfp in query_fps_2d.values()]\n",
        "    idx = int(np.argmax(scores))\n",
        "    sim2d.append(scores[idx])\n",
        "    best2d.append(list(query_fps_2d.keys())[idx])\n",
        "# 3D\n",
        "def cos_sim(a, b): return float(np.dot(a, b) / (np.linalg.norm(a)*np.linalg.norm(b)))\n",
        "sim3d = []\n",
        "best3d = []\n",
        "for v in fps_3d:\n",
        "    scores = [cos_sim(v, qv) for qv in query_fps_3d.values()]\n",
        "    idx = int(np.argmax(scores))\n",
        "    sim3d.append(scores[idx])\n",
        "    best3d.append(list(query_fps_3d.keys())[idx])\n",
        "\n",
        "df_valid[\"Sim2D\"] = sim2d\n",
        "df_valid[\"Best2D\"] = best2d\n",
        "df_valid[\"Sim3D\"] = sim3d\n",
        "df_valid[\"Best3D\"] = best3d\n",
        "threshold = 0.7\n",
        "df_valid[\"Hit2D\"] = df_valid[\"Sim2D\"] >= threshold\n",
        "df_valid[\"Hit3D\"] = df_valid[\"Sim3D\"] >= threshold\n",
        "print(f\"2D hits: {df_valid['Hit2D'].sum()}, 3D hits: {df_valid['Hit3D'].sum()}\")"
      ]
    },
    {
      "cell_type": "code",
      "execution_count": null,
      "id": "987f04b6",
      "metadata": {
        "id": "987f04b6",
        "colab": {
          "base_uri": "https://localhost:8080/"
        },
        "outputId": "583ac928-43e3-48aa-eeb3-6e77f3cc7321"
      },
      "outputs": [
        {
          "output_type": "stream",
          "name": "stdout",
          "text": [
            "GNINA not found; skipping docking.\n",
            "Docking hits: 0\n"
          ]
        }
      ],
      "source": [
        "# 5. Docking-based screening (GNINA)\n",
        "df_valid[\"DockScore\"] = np.nan\n",
        "df_valid[\"DockHit\"] = False\n",
        "\n",
        "if shutil.which(\"gnina\"):\n",
        "    for idx, smi in enumerate(df_valid[smiles_col]):\n",
        "        lig = Chem.MolFromSmiles(smi)\n",
        "        lig = Chem.AddHs(lig)\n",
        "        AllChem.EmbedMolecule(lig, randomSeed=42)\n",
        "        AllChem.UFFOptimizeMolecule(lig)\n",
        "        lig_path = f\"lig_{idx}.sdf\"\n",
        "        Chem.MolToMolFile(lig, lig_path)\n",
        "        # Run gnina for score only\n",
        "        cmd = [\"gnina\", \"--receptor\", receptor_file, \"--ligand\", lig_path,\n",
        "               \"--score_only\", \"--log\", f\"log_{idx}.txt\"]\n",
        "        try:\n",
        "            out = subprocess.check_output(cmd, stderr=subprocess.STDOUT).decode()\n",
        "            # parse 'Affinity:' line\n",
        "            for line in out.split(\"\\n\"):\n",
        "                if \"Affinity:\" in line:\n",
        "                    score = float(line.split()[1])\n",
        "                    df_valid.at[idx, \"DockScore\"] = score\n",
        "                    df_valid.at[idx, \"DockHit\"] = (score <= -7.0)  # example cutoff\n",
        "                    break\n",
        "        except Exception as e:\n",
        "            print(f\"Docking failed for idx {idx}: {e}\")\n",
        "else:\n",
        "    print(\"GNINA not found; skipping docking.\")\n",
        "\n",
        "print(f\"Docking hits: {df_valid['DockHit'].sum()}\")"
      ]
    },
    {
      "cell_type": "code",
      "execution_count": null,
      "id": "e863f578",
      "metadata": {
        "id": "e863f578",
        "colab": {
          "base_uri": "https://localhost:8080/"
        },
        "outputId": "be2748aa-f547-41af-b11d-48b1e45dcb2f"
      },
      "outputs": [
        {
          "output_type": "stream",
          "name": "stdout",
          "text": [
            "Final hits after ADMET: 163\n",
            "Top scaffolds: [('C1=CCCCC1', 37), ('O=C1C=CCCC1', 22), ('C1CCC2OC2C1', 14), ('', 11), ('c1ccccc1', 6)]\n"
          ]
        }
      ],
      "source": [
        "# 6. ADMET filtering (Lipinski) and scaffold analysis\n",
        "def lipinski(r): return (r[\"MW\"]<=500 and r[\"LogP\"]<=5 and r[\"HBD\"]<=5 and r[\"HBA\"]<=10)\n",
        "df_valid[\"ADMET\"] = df_valid.apply(lipinski, axis=1)\n",
        "# Union of 2D, 3D, Docking\n",
        "df_valid[\"UnionHit\"] = df_valid[[\"Hit2D\",\"Hit3D\",\"DockHit\"]].any(axis=1)\n",
        "hits_final = df_valid[df_valid[\"UnionHit\"] & df_valid[\"ADMET\"]]\n",
        "print(f\"Final hits after ADMET: {len(hits_final)}\")\n",
        "\n",
        "# Scaffold counts\n",
        "scf = {}\n",
        "for smi in hits_final[smiles_col]:\n",
        "    m = Chem.MolFromSmiles(smi)\n",
        "    sc = MurckoScaffold.GetScaffoldForMol(m)\n",
        "    sc_smi = Chem.MolToSmiles(sc, isomericSmiles=False)\n",
        "    scf[sc_smi] = scf.get(sc_smi, 0) + 1\n",
        "print(\"Top scaffolds:\", sorted(scf.items(), key=lambda x: x[1], reverse=True)[:5])"
      ]
    },
    {
      "cell_type": "code",
      "execution_count": null,
      "id": "3c1c7c91",
      "metadata": {
        "id": "3c1c7c91",
        "colab": {
          "base_uri": "https://localhost:8080/"
        },
        "outputId": "fd448434-4c30-4337-8c76-b9e000b7c183"
      },
      "outputs": [
        {
          "output_type": "stream",
          "name": "stdout",
          "text": [
            "Saved full and final hits CSV.\n"
          ]
        }
      ],
      "source": [
        "# 7. Save results & visualizations\n",
        "df_valid.to_csv(os.path.join(output_dir, \"full_results.csv\"), index=False)\n",
        "hits_final.to_csv(os.path.join(output_dir, \"final_hits.csv\"), index=False)\n",
        "print(\"Saved full and final hits CSV.\")\n",
        "\n",
        "# Plots\n",
        "plt.figure(figsize=(6,4))\n",
        "plt.hist(df_valid[\"Sim3D\"], bins=20)\n",
        "plt.title(\"3D Similarity Distribution\")\n",
        "plt.savefig(os.path.join(output_dir, \"sim3d_dist.png\"))\n",
        "plt.close()\n",
        "\n",
        "plt.figure(figsize=(5,5))\n",
        "plt.scatter(df_valid[\"MW\"], df_valid[\"LogP\"], c=\"gray\", alpha=0.5, label=\"Library\")\n",
        "plt.scatter(hits_final[\"MW\"], hits_final[\"LogP\"], c=\"red\", label=\"Hits\")\n",
        "plt.title(\"MW vs LogP\")\n",
        "plt.legend()\n",
        "plt.savefig(os.path.join(output_dir, \"MW_vs_LogP.png\"))\n",
        "plt.close()"
      ]
    }
  ],
  "metadata": {
    "colab": {
      "provenance": [],
      "include_colab_link": true
    },
    "kernelspec": {
      "display_name": "Python 3",
      "name": "python3"
    },
    "language_info": {
      "name": "python"
    }
  },
  "nbformat": 4,
  "nbformat_minor": 5
}